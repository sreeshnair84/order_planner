{
 "cells": [
  {
   "cell_type": "code",
   "execution_count": 12,
   "id": "a5339c88-a0b1-474f-aa49-4c5c1e0cd5dc",
   "metadata": {},
   "outputs": [],
   "source": [
    "config ={\"AZURE_OPENAI_ENDPOINT\": \"https://direct-dispatch-ai-foundary.cognitiveservices.azure.com/openai/deployments/gpt-4o/chat/completions?api-version=2025-01-01-preview\",\n",
    "    \"AZURE_OPENAI_DEPLOYMENT\": \"gpt-4o\",\n",
    "    \"AZURE_OPENAI_KEY\": \"4QmKoDHWQpIlg9pZjOxDMgbp3ACMrA2wP3y02anJGckTsgOx1EAXJQQJ99BFACYeBjFXJ3w3AAAAACOG6cHI\",\n",
    "    \"AZURE_OPENAI_VERSION\": \"2025-01-01-preview\"}"
   ]
  },
  {
   "cell_type": "code",
   "execution_count": 13,
   "id": "82ae3732-7e94-437d-87e8-4731d49b7272",
   "metadata": {},
   "outputs": [],
   "source": [
    "\n",
    "from openai import AzureOpenAI\n",
    "client = AzureOpenAI(\n",
    "                    azure_endpoint=config.get(\"AZURE_OPENAI_ENDPOINT\"),\n",
    "                    api_key=config.get(\"AZURE_OPENAI_KEY\"),\n",
    "                    api_version=config.get(\"AZURE_OPENAI_VERSION\"),\n",
    "                )"
   ]
  },
  {
   "cell_type": "code",
   "execution_count": 14,
   "id": "ee0e361f-1771-43ed-a05b-c99db9a5b1bb",
   "metadata": {},
   "outputs": [],
   "source": [
    "response = client.chat.completions.create(\n",
    "                model=config.get(\"AZURE_OPENAI_DEPLOYMENT\"),\n",
    "                messages=[{\"role\": \"user\", \"content\": \"test\"}],\n",
    "                max_tokens=5,\n",
    "                temperature=0\n",
    "            )"
   ]
  },
  {
   "cell_type": "code",
   "execution_count": 15,
   "id": "417231ac-748e-4593-8049-04514205f634",
   "metadata": {},
   "outputs": [
    {
     "data": {
      "text/plain": [
       "ChatCompletion(id='chatcmpl-BrINkwg5OxfiUg0xrwMkWNtpprQ6I', choices=[Choice(finish_reason='length', index=0, logprobs=None, message=ChatCompletionMessage(content='Hello! How can I', refusal=None, role='assistant', annotations=[], audio=None, function_call=None, tool_calls=None), content_filter_results={'hate': {'filtered': False, 'severity': 'safe'}, 'protected_material_code': {'filtered': False, 'detected': False}, 'protected_material_text': {'filtered': False, 'detected': False}, 'self_harm': {'filtered': False, 'severity': 'safe'}, 'sexual': {'filtered': False, 'severity': 'safe'}, 'violence': {'filtered': False, 'severity': 'safe'}})], created=1752041744, model='gpt-4o-2024-11-20', object='chat.completion', service_tier=None, system_fingerprint='fp_ee1d74bde0', usage=CompletionUsage(completion_tokens=5, prompt_tokens=8, total_tokens=13, completion_tokens_details=CompletionTokensDetails(accepted_prediction_tokens=0, audio_tokens=0, reasoning_tokens=0, rejected_prediction_tokens=0), prompt_tokens_details=PromptTokensDetails(audio_tokens=0, cached_tokens=0)), prompt_filter_results=[{'prompt_index': 0, 'content_filter_results': {'hate': {'filtered': False, 'severity': 'safe'}, 'jailbreak': {'filtered': False, 'detected': False}, 'self_harm': {'filtered': False, 'severity': 'safe'}, 'sexual': {'filtered': False, 'severity': 'safe'}, 'violence': {'filtered': False, 'severity': 'safe'}}}])"
      ]
     },
     "execution_count": 15,
     "metadata": {},
     "output_type": "execute_result"
    }
   ],
   "source": [
    "response"
   ]
  },
  {
   "cell_type": "code",
   "execution_count": 1,
   "id": "a8d582aa-7211-4908-9701-74b12534618f",
   "metadata": {},
   "outputs": [],
   "source": [
    "from azure.ai.projects import AIProjectClient"
   ]
  },
  {
   "cell_type": "code",
   "execution_count": 2,
   "id": "2c031da7-eb07-4352-9aa1-75de8bdea5d9",
   "metadata": {},
   "outputs": [
    {
     "ename": "AttributeError",
     "evalue": "type object 'AIProjectClient' has no attribute 'from_connection_string'",
     "output_type": "error",
     "traceback": [
      "\u001b[31m---------------------------------------------------------------------------\u001b[39m",
      "\u001b[31mAttributeError\u001b[39m                            Traceback (most recent call last)",
      "\u001b[36mCell\u001b[39m\u001b[36m \u001b[39m\u001b[32mIn[2]\u001b[39m\u001b[32m, line 1\u001b[39m\n\u001b[32m----> \u001b[39m\u001b[32m1\u001b[39m ai_client = \u001b[43mAIProjectClient\u001b[49m\u001b[43m.\u001b[49m\u001b[43mfrom_connection_string\u001b[49m(\n\u001b[32m      2\u001b[39m             conn_str=config.get(\u001b[33m\"\u001b[39m\u001b[33mAZURE_OPENAI_ENDPOINT\u001b[39m\u001b[33m\"\u001b[39m),\n\u001b[32m      3\u001b[39m             credential=config.get(\u001b[33m\"\u001b[39m\u001b[33mAZURE_OPENAI_KEY\u001b[39m\u001b[33m\"\u001b[39m)\n\u001b[32m      4\u001b[39m         )\n",
      "\u001b[31mAttributeError\u001b[39m: type object 'AIProjectClient' has no attribute 'from_connection_string'"
     ]
    }
   ],
   "source": [
    "ai_client = AIProjectClient.from_connection_string(\n",
    "            conn_str=config.get(\"AZURE_OPENAI_ENDPOINT\"),\n",
    "            credential=config.get(\"AZURE_OPENAI_KEY\")\n",
    "        )"
   ]
  },
  {
   "cell_type": "code",
   "execution_count": null,
   "id": "bed4a450-b738-493e-bc46-9df6f62fa946",
   "metadata": {},
   "outputs": [],
   "source": []
  }
 ],
 "metadata": {
  "kernelspec": {
   "display_name": "Python 3 (ipykernel)",
   "language": "python",
   "name": "python3"
  },
  "language_info": {
   "codemirror_mode": {
    "name": "ipython",
    "version": 3
   },
   "file_extension": ".py",
   "mimetype": "text/x-python",
   "name": "python",
   "nbconvert_exporter": "python",
   "pygments_lexer": "ipython3",
   "version": "3.11.9"
  }
 },
 "nbformat": 4,
 "nbformat_minor": 5
}
